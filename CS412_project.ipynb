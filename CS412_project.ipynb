{
 "cells": [
  {
   "cell_type": "markdown",
   "metadata": {
    "id": "8E5r4F25Njf7"
   },
   "source": [
    "# Import libraries"
   ]
  },
  {
   "cell_type": "code",
   "execution_count": 1,
   "metadata": {
    "id": "LCYaeqYCNTDm"
   },
   "outputs": [],
   "source": [
    "import pandas as pd\n",
    "import numpy as np\n",
    "import matplotlib\n",
    "import matplotlib.pyplot as plt\n",
    "import torch\n",
    "import sklearn"
   ]
  },
  {
   "cell_type": "markdown",
   "metadata": {
    "id": "QoX2tIs8PGUJ"
   },
   "source": [
    "# Read dataset"
   ]
  },
  {
   "cell_type": "code",
   "execution_count": 2,
   "metadata": {
    "colab": {
     "base_uri": "https://localhost:8080/"
    },
    "id": "ttawqt00PErx",
    "outputId": "148d09f7-2eff-4647-da0d-c82e5502d066"
   },
   "outputs": [
    {
     "name": "stdout",
     "output_type": "stream",
     "text": [
      "  Origin Dest  Cancelled  CRSDepTime  DepDelay  CRSElapsedTime  Distance  \\\n",
      "0    ABY  ATL      False        1202      -5.0            62.0     145.0   \n",
      "1    ABY  ATL      False        1202      -5.0            62.0     145.0   \n",
      "2    ABY  ATL      False        1202      -9.0            62.0     145.0   \n",
      "3    ABY  ATL      False        1202     -12.0            62.0     145.0   \n",
      "4    ABY  ATL      False        1400      -5.0            60.0     145.0   \n",
      "\n",
      "   Month  DayofMonth  DayOfWeek IATA_Code_Operating_Airline  CRSArrTime  \\\n",
      "0      1          23          2                          9E        1304   \n",
      "1      1          24          3                          9E        1304   \n",
      "2      1          25          4                          9E        1304   \n",
      "3      1          26          5                          9E        1304   \n",
      "4      1          27          6                          9E        1500   \n",
      "\n",
      "   ArrDelay  ArrivalDelayGroups  \n",
      "0      -8.0                -1.0  \n",
      "1      -6.0                -1.0  \n",
      "2      -2.0                -1.0  \n",
      "3     -11.0                -1.0  \n",
      "4      -1.0                -1.0  \n",
      "(5689512, 14)\n"
     ]
    }
   ],
   "source": [
    "df = pd.read_csv('Combined_Flights_2018.csv', usecols=['Origin', 'Dest', 'Cancelled', 'CRSDepTime', 'DepDelay', 'CRSElapsedTime', 'Distance', 'Month', 'DayofMonth', 'DayOfWeek', 'IATA_Code_Operating_Airline', 'CRSArrTime', 'ArrDelay', 'ArrivalDelayGroups'])\n",
    "print(df.head())\n",
    "print(df.shape)"
   ]
  },
  {
   "cell_type": "markdown",
   "metadata": {
    "id": "h74uyAiRXASx"
   },
   "source": [
    "# Data preprocessing"
   ]
  },
  {
   "cell_type": "markdown",
   "metadata": {
    "id": "RdUxnwRCU9Qc"
   },
   "source": [
    "## drop cancelled flights"
   ]
  },
  {
   "cell_type": "code",
   "execution_count": 3,
   "metadata": {
    "colab": {
     "base_uri": "https://localhost:8080/"
    },
    "id": "7JDhiAiYPbA3",
    "outputId": "9a11c832-6639-4565-84cb-09bc0159e8ef"
   },
   "outputs": [
    {
     "name": "stdout",
     "output_type": "stream",
     "text": [
      "(5601139, 14)\n",
      "(5601139, 13)\n",
      "  Origin Dest  DepTime  DepDelay  ElapsedTime  Distance  Month  DayofMonth  \\\n",
      "0    ABY  ATL     1202      -5.0         62.0     145.0      1          23   \n",
      "1    ABY  ATL     1202      -5.0         62.0     145.0      1          24   \n",
      "2    ABY  ATL     1202      -9.0         62.0     145.0      1          25   \n",
      "3    ABY  ATL     1202     -12.0         62.0     145.0      1          26   \n",
      "4    ABY  ATL     1400      -5.0         60.0     145.0      1          27   \n",
      "\n",
      "   DayofWeek Airline  ArrTime  ArrDelay  ArrGroup  \n",
      "0          2      9E     1304      -8.0      -1.0  \n",
      "1          3      9E     1304      -6.0      -1.0  \n",
      "2          4      9E     1304      -2.0      -1.0  \n",
      "3          5      9E     1304     -11.0      -1.0  \n",
      "4          6      9E     1500      -1.0      -1.0  \n"
     ]
    }
   ],
   "source": [
    "df_col = df.loc[df['Cancelled'] == False]\n",
    "print(df_col.shape)\n",
    "df_col = df_col.drop('Cancelled', axis=1)\n",
    "print(df_col.shape)\n",
    "# simplfy column_names\n",
    "df_col.rename(columns = {'CRSDepTime': 'DepTime', 'CRSElapsedTime': 'ElapsedTime','DayOfWeek': 'DayofWeek', 'IATA_Code_Operating_Airline': 'Airline', 'CRSArrTime': 'ArrTime', 'ArrivalDelayGroups':'ArrGroup'}, inplace = True)\n",
    "print(df_col.head())"
   ]
  },
  {
   "cell_type": "markdown",
   "metadata": {
    "id": "vEKMw8o5U7Vj"
   },
   "source": [
    "## one-hot encoded"
   ]
  },
  {
   "cell_type": "code",
   "execution_count": 4,
   "metadata": {
    "colab": {
     "base_uri": "https://localhost:8080/"
    },
    "id": "SwXsvVVLU6rZ",
    "outputId": "9f6a5055-5916-4c1b-9a50-ac52d340451c"
   },
   "outputs": [
    {
     "name": "stdout",
     "output_type": "stream",
     "text": [
      "(5601139, 370)\n",
      "(5601139, 370)\n",
      "(5601139, 12)\n",
      "(5601139, 31)\n",
      "(5601139, 7)\n",
      "(5601139, 28)\n"
     ]
    }
   ],
   "source": [
    "origin = pd.get_dummies(df_col['Origin'], prefix='origin')\n",
    "print(origin.shape)\n",
    "dest = pd.get_dummies(df_col['Dest'], prefix='dest')\n",
    "print(dest.shape)\n",
    "month = pd.get_dummies(df_col['Month'], prefix='month')\n",
    "print(month.shape)\n",
    "day_m = pd.get_dummies(df_col['DayofMonth'], prefix='day_m')\n",
    "print(day_m.shape)\n",
    "day_w = pd.get_dummies(df_col['DayofWeek'], prefix='day_w')\n",
    "print(day_w.shape)\n",
    "airline = pd.get_dummies(df_col['Airline'], prefix='airline')\n",
    "print(airline.shape)"
   ]
  },
  {
   "cell_type": "code",
   "execution_count": 5,
   "metadata": {
    "colab": {
     "base_uri": "https://localhost:8080/",
     "height": 246
    },
    "id": "lMnj90SDXRFu",
    "outputId": "0f0a3af0-e70d-40d7-a4f9-4e2d57c6a3b0"
   },
   "outputs": [
    {
     "name": "stdout",
     "output_type": "stream",
     "text": [
      "(5601139, 7)\n",
      "(5601139, 825)\n"
     ]
    }
   ],
   "source": [
    "# drop original columns\n",
    "df_col = df_col.drop(columns=['Origin', 'Dest', 'Month', 'DayofMonth', 'DayofWeek', 'Airline'])\n",
    "print(df_col.shape)\n",
    "\n",
    "# combine dataset together\n",
    "df_new = pd.concat([df_col, origin], axis=1)\n",
    "df_new = pd.concat([df_new, dest], axis=1)\n",
    "df_new = pd.concat([df_new, month], axis=1)\n",
    "df_new = pd.concat([df_new, day_m], axis=1)\n",
    "df_new = pd.concat([df_new, day_w], axis=1)\n",
    "df_new = pd.concat([df_new, airline], axis=1)\n",
    "print(df_new.shape)"
   ]
  },
  {
   "cell_type": "markdown",
   "metadata": {},
   "source": [
    "## Numerical data "
   ]
  },
  {
   "cell_type": "code",
   "execution_count": 20,
   "metadata": {},
   "outputs": [],
   "source": [
    "# Convert 24h-formatted time to minutes \n",
    "def time_to_minutes(time_24h):\n",
    "    \"\"\"Convert 24h-formatted time to minutes.\"\"\"\n",
    "    return (time_24h // 100) * 60 + (time_24h % 100)\n",
    "\n",
    "df_new['DepTime'] = df_new['DepTime'].apply(time_to_minutes)\n",
    "df_new['ArrTime'] = df_new['ArrTime'].apply(time_to_minutes)\n",
    "\n",
    "##### Notes #####\n",
    "''' \n",
    "ArrGroup is just the sign of ArrDelay (minutes) \n",
    "Distance is the distance between airports (miles) \n",
    "DepTime is the CRS departure time (HHMM) \n",
    "\n",
    "DepTime + DepDelay is the actual departure time (HHMM) \n",
    "We can normalize each column individually despite the relation between DepTime and DepDelay, \n",
    "since DepTime is going to tell us how busy the airport is at that time of day, and DepDelay is related to the flight itself. \n",
    "In other words, we treat them as separate features. \n",
    "''' \n",
    "\n",
    "# Normalize and standardize columns \n",
    "columns_to_normalize = ['DepTime', 'ArrTime', 'DepDelay', 'ArrDelay', 'ElapsedTime', 'Distance']\n",
    "\n",
    "# Necessary imports \n",
    "from sklearn.preprocessing import MinMaxScaler, StandardScaler\n",
    "\n",
    "# Initialize scalers\n",
    "minmax_scaler = MinMaxScaler()\n",
    "standard_scaler = StandardScaler()\n",
    "\n",
    "##### Notes #####\n",
    "'''\n",
    "The rescaling of data depends on the model we are using. \n",
    "Here I apply both MinMaxScaler and StandardScaler to the data, and name the new columns accordingly.\n",
    "The original columns are dropped at the end. \n",
    "'''\n",
    "\n",
    "for column in columns_to_normalize:\n",
    "    # Create normalized columns\n",
    "    df_new[column + '_normalized'] = minmax_scaler.fit_transform(df_new[[column]])\n",
    "    \n",
    "    # Create standardized columns\n",
    "    df_new[column + '_standardized'] = standard_scaler.fit_transform(df_new[[column]])\n",
    "    \n",
    "    # Drop the original columns\n",
    "    df_new.drop(column, axis=1, inplace=True)\n",
    "\n",
    "\n",
    "print(df_new[[columns_to_normalize].head()].head())"
   ]
  },
  {
   "cell_type": "markdown",
   "metadata": {
    "id": "VTXJVypDVJm2"
   },
   "source": [
    "## Split dataset"
   ]
  },
  {
   "cell_type": "code",
   "execution_count": 6,
   "metadata": {
    "id": "TN3_Ism1TsmD"
   },
   "outputs": [
    {
     "name": "stdout",
     "output_type": "stream",
     "text": [
      "(4486512, 823) (554513, 823) (560114, 823)\n",
      "(4486512,) (554513,) (560114,)\n"
     ]
    }
   ],
   "source": [
    "from sklearn.model_selection import train_test_split\n",
    "# for regression\n",
    "X = df_new.drop(columns=['ArrDelay',  'ArrGroup'])\n",
    "y = df_new['ArrDelay']\n",
    "## for classification\n",
    "# Y = df_new['ArrGroup']\n",
    "\n",
    "# split train-test\n",
    "X_train, X_test, y_train, y_test = train_test_split(X, y, test_size=0.10, random_state=42)\n",
    "# split train - train/validate\n",
    "X_training, X_val, y_training, y_val = train_test_split(X_train, y_train, test_size=0.11, random_state=42)\n",
    "\n",
    "print(X_training.shape, X_val.shape, X_test.shape)\n",
    "print(y_training.shape, y_val.shape, y_test.shape)"
   ]
  }
 ],
 "metadata": {
  "accelerator": "GPU",
  "colab": {
   "gpuType": "T4",
   "provenance": []
  },
  "kernelspec": {
   "display_name": "Python 3 (ipykernel)",
   "language": "python",
   "name": "python3"
  },
  "language_info": {
   "codemirror_mode": {
    "name": "ipython",
    "version": 3
   },
   "file_extension": ".py",
   "mimetype": "text/x-python",
   "name": "python",
   "nbconvert_exporter": "python",
   "pygments_lexer": "ipython3",
   "version": "3.8.8"
  }
 },
 "nbformat": 4,
 "nbformat_minor": 4
}
