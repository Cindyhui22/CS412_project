{
 "cells": [
  {
   "cell_type": "markdown",
   "metadata": {
    "id": "8E5r4F25Njf7"
   },
   "source": [
    "# Import libraries"
   ]
  },
  {
   "cell_type": "code",
   "execution_count": 1,
   "metadata": {
    "id": "LCYaeqYCNTDm"
   },
   "outputs": [],
   "source": [
    "import pandas as pd\n",
    "import numpy as np\n",
    "import matplotlib\n",
    "import matplotlib.pyplot as plt\n",
    "import torch\n",
    "import sklearn"
   ]
  },
  {
   "cell_type": "markdown",
   "metadata": {
    "id": "QoX2tIs8PGUJ"
   },
   "source": [
    "# Read dataset"
   ]
  },
  {
   "cell_type": "code",
   "execution_count": 2,
   "metadata": {},
   "outputs": [
    {
     "name": "stdout",
     "output_type": "stream",
     "text": [
      "(4474020, 823) (552969, 823) (558555, 823)\n",
      "(4474020,) (552969,) (558555,)\n"
     ]
    }
   ],
   "source": [
    "# from torch.utils.data import Dataset\n",
    "# from torch.utils.data import DataLoader\n",
    "\n",
    "# class MLPDataset(Dataset):\n",
    "#     def __init__(self, csv_file):\n",
    "#         self.data = pd.read_csv(csv_file)\n",
    "#     def __len__(self):\n",
    "#         return len(self.data)\n",
    "#     def __getitem__(self, idx):\n",
    "#         feature = self.data.iloc[idx, 0:-1]\n",
    "#         label = self.data.iloc[idx, -1]\n",
    "#         return feature, label\n",
    "\n",
    "data_train = pd.DataFrame(np.fromfile('data_train.dat', dtype=np.float32).reshape((-1, 824)))\n",
    "data_val = pd.DataFrame(np.fromfile('data_val.dat', dtype=np.float32).reshape((-1, 824)))\n",
    "data_test = pd.DataFrame(np.fromfile('data_test.dat', dtype=np.float32).reshape((-1, 824)))\n",
    "X_training = data_train.iloc[:, 0:-1]\n",
    "y_training = data_train.iloc[:, -1]\n",
    "X_val = data_val.iloc[:, 0:-1]\n",
    "y_val = data_val.iloc[:, -1]\n",
    "X_test = data_test.iloc[:, 0:-1]\n",
    "y_test = data_test.iloc[:, -1]\n",
    "print(X_training.shape, X_val.shape, X_test.shape)\n",
    "print(y_training.shape, y_val.shape, y_test.shape)"
   ]
  },
  {
   "cell_type": "markdown",
   "metadata": {},
   "source": [
    "# MLP regression model"
   ]
  },
  {
   "cell_type": "code",
   "execution_count": 6,
   "metadata": {},
   "outputs": [],
   "source": [
    "import torch.nn as nn\n",
    "import torch.nn.functional as F\n",
    "import torch.optim as optim\n",
    "from sklearn.datasets import load_digits\n",
    "from tqdm import tqdm\n",
    "import os\n",
    "from torch.utils.data import Dataset, DataLoader"
   ]
  },
  {
   "cell_type": "markdown",
   "metadata": {},
   "source": [
    "## Model define"
   ]
  },
  {
   "cell_type": "code",
   "execution_count": 4,
   "metadata": {},
   "outputs": [],
   "source": [
    "class MLP(nn.Module): \n",
    "    '''\n",
    "    Multilayer Perceptron for regression.\n",
    "    '''\n",
    "    def __init__(self, width, active_func):\n",
    "        super().__init__() \n",
    "        torch.manual_seed(0) #setseed\n",
    "\n",
    "        layer_list = []\n",
    "        layer_list.append(nn.Linear(823, pow(2,width))) #expand to 2^width features\n",
    "        layer_list.append(active_func) #tuned by given\n",
    "\n",
    "        width_lay = width\n",
    "        for i in range(6,width):\n",
    "            layer_list.append(nn.Linear(pow(2,width_lay), pow(2,width_lay-1)))\n",
    "            layer_list.append(active_func)\n",
    "            width_lay -= 1\n",
    "        layer_list.append(nn.Linear(64, 1))  # regression output\n",
    "        self.layers = nn.Sequential(*layer_list)\n",
    "\n",
    "    def forward(self, x):\n",
    "        return self.layers(x)"
   ]
  },
  {
   "cell_type": "markdown",
   "metadata": {},
   "source": [
    "## Define utils functions"
   ]
  },
  {
   "cell_type": "code",
   "execution_count": 17,
   "metadata": {},
   "outputs": [],
   "source": [
    "# trainer class\n",
    "class Trainer:\n",
    "    \"\"\"Main class for model training\"\"\"\n",
    "    \n",
    "    def __init__(\n",
    "        self,\n",
    "        model,\n",
    "        n_epochs,\n",
    "        data_size,\n",
    "        X_training,\n",
    "        y_training,\n",
    "        X_val,\n",
    "        y_val,\n",
    "        loss_func,\n",
    "        checkpoint_frequency,\n",
    "        model_dir,\n",
    "        optimizer,\n",
    "        batch_size,\n",
    "        device,\n",
    "        model_name,\n",
    "    ):  \n",
    "        self.net = model\n",
    "        self.n_epochs = n_epochs\n",
    "        self.data_size = data_size\n",
    "        self.X_training = X_training\n",
    "        self.y_training = y_training\n",
    "        self.X_val = X_val\n",
    "        self.y_val = y_val\n",
    "        self.loss_func = loss_func\n",
    "        self.checkpoint_frequency = checkpoint_frequency\n",
    "        self.model_dir = model_dir\n",
    "        self.optimizer = optimizer\n",
    "        self.batch_size = batch_size\n",
    "        self.device = device\n",
    "        self.model_name = model_name\n",
    "        self.loss = {\"train\": [], \"val\": []}\n",
    "        self.net.to(self.device)\n",
    "\n",
    "    def fit_and_evaluate(self):\n",
    "        '''\n",
    "        Fits the neural network using the given optimizer, loss function, training set\n",
    "        Returns:\n",
    "            train_epoch_loss, test_epoch_loss: two arrays of length n_epochs+1,\n",
    "            containing the mean loss at the beginning of training and after each epoch\n",
    "        '''\n",
    "        # load data\n",
    "        training_p = self._torch_datap(self.X_training.iloc[0:self.data_size,:], self.y_training.iloc[0:self.data_size])\n",
    "        valid_p = self._torch_datap(self.X_val, self.y_val)\n",
    "    \n",
    "        # Prepare data\n",
    "        train_dl = torch.utils.data.DataLoader(training_p, self.batch_size, pin_memory=True)       \n",
    "        val_dl = torch.utils.data.DataLoader(valid_p, self.batch_size, pin_memory=True)\n",
    "\n",
    "        self.train_losses = []\n",
    "        self.val_losses = []\n",
    "\n",
    "        # Compute the loss on the training and validation sets at the start,\n",
    "        self.net.eval()\n",
    "        with torch.no_grad():\n",
    "            self.train_losses.append(self._epoch_loss(train_dl))\n",
    "            self.val_losses.append(self._epoch_loss(val_dl))\n",
    "            \n",
    "        # Train the network for n_epochs, storing the training and validation losses after every epoch.\n",
    "        for epoch in tqdm(range(self.n_epochs)):\n",
    "            #training\n",
    "            self.net.train()\n",
    "            for iteration, (xb, yb) in enumerate(train_dl):\n",
    "                self._train_batch(xb.to(self.device), yb.to(self.device))\n",
    "            #testing\n",
    "            self.net.eval()\n",
    "            with torch.no_grad():\n",
    "                self.train_losses.append(self._epoch_loss(train_dl))\n",
    "                self.val_losses.append(self._epoch_loss(val_dl))\n",
    "\n",
    "            if self.checkpoint_frequency:\n",
    "                self._save_checkpoint(epoch)\n",
    "            \n",
    "        return self.train_losses, self.val_losses\n",
    "\n",
    "    def _torch_datap(self, feature_col, label): \n",
    "        feature_t = torch.tensor(feature_col.values, dtype=torch.float)\n",
    "        label_t = torch.tensor(label.values, dtype=torch.float)\n",
    "        datap = torch.utils.data.TensorDataset(feature_t, label_t)\n",
    "        return datap\n",
    "\n",
    "    def _train_batch(self, xb, yb):\n",
    "        ''' \n",
    "        @param xb: a batch of the training data to input to the model\n",
    "        @param yb: a batch of the training labels to input to the model\n",
    "        '''\n",
    "        # Zero the gradients\n",
    "        self.optimizer.zero_grad()  \n",
    "        # Perform forward pass\n",
    "        yi = self.net(xb)\n",
    "        # Compute loss\n",
    "        loss = self.loss_func(yi, yb) \n",
    "        # Perform backward pass\n",
    "        loss.backward()\n",
    "        # Perform optimization\n",
    "        self.optimizer.step()\n",
    "\n",
    "    def _epoch_loss(self, data_loader):\n",
    "        ''' Computes the average loss of the model on the entire dataset\n",
    "        @param data_loader: The DataLoader which loads minibatches of the dataset\n",
    "        @return The network's average loss over the dataset.\n",
    "        '''\n",
    "        total_examples = 0\n",
    "        losses = []\n",
    "        for X, Y in data_loader:\n",
    "            total_examples += len(X)\n",
    "            losses.append(self.loss_func(self.net(X.to(self.device)), Y.to(self.device)).item() * len(X)) # Compute total loss for batch\n",
    "        return torch.tensor(losses).sum() / total_examples\n",
    "    \n",
    "    def _save_checkpoint(self, epoch):\n",
    "        \"\"\"Save model checkpoint to `self.model_dir` directory\"\"\"\n",
    "        if epoch % self.checkpoint_frequency == 0:\n",
    "            check_path = \"/checkpoint_{}.pt\".format(str(epoch).zfill(2))\n",
    "            check_path = self.model_dir + self.model_name + check_path\n",
    "            torch.save({\n",
    "                'epoch': epoch,\n",
    "                'model_state_dict': self.net.state_dict(),\n",
    "                'optimizer_state_dict': self.optimizer.state_dict(),\n",
    "                'loss': [self.train_losses, self.val_losses],\n",
    "                }, check_path)"
   ]
  },
  {
   "cell_type": "markdown",
   "metadata": {},
   "source": [
    "## Hyper-para tuning"
   ]
  },
  {
   "cell_type": "code",
   "execution_count": null,
   "metadata": {
    "tags": []
   },
   "outputs": [],
   "source": [
    "# width_arry = np.array([10, 11, 12])\n",
    "# act_array = np.array([nn.ReLU(), nn.Sigmoid()])\n",
    "# loss_array = np.array([nn.L1Loss(), nn.MSELoss()])\n",
    "# lr_array = np.array([0.001, 0.005, 0.05])\n",
    "# opt_array = np.array([\"Adam\", \"SGD\"])"
   ]
  },
  {
   "cell_type": "markdown",
   "metadata": {
    "jp-MarkdownHeadingCollapsed": true,
    "tags": []
   },
   "source": [
    "### test module"
   ]
  },
  {
   "cell_type": "code",
   "execution_count": 6,
   "metadata": {
    "collapsed": true,
    "jupyter": {
     "outputs_hidden": true
    },
    "tags": []
   },
   "outputs": [
    {
     "name": "stdout",
     "output_type": "stream",
     "text": [
      "/home/hkhuang3/Documents/coding_general/cindy/width_10\n"
     ]
    },
    {
     "name": "stderr",
     "output_type": "stream",
     "text": [
      "/home/hkhuang3/.local/lib/python3.10/site-packages/torch/nn/modules/loss.py:101: UserWarning: Using a target size (torch.Size([10])) that is different to the input size (torch.Size([10, 1])). This will likely lead to incorrect results due to broadcasting. Please ensure they have the same size.\n",
      "  return F.l1_loss(input, target, reduction=self.reduction)\n",
      "/home/hkhuang3/.local/lib/python3.10/site-packages/torch/nn/modules/loss.py:101: UserWarning: Using a target size (torch.Size([1])) that is different to the input size (torch.Size([1, 1])). This will likely lead to incorrect results due to broadcasting. Please ensure they have the same size.\n",
      "  return F.l1_loss(input, target, reduction=self.reduction)\n",
      "100%|██████████████████████████████████████████████████████████████████████████████████████| 3/3 [00:03<00:00,  1.21s/it]\n"
     ]
    }
   ],
   "source": [
    "# para initialize\n",
    "data_size = 100\n",
    "batch_size = 10\n",
    "n_epochs = 3\n",
    "checkpoint_frequency = 1\n",
    "model_dir = os.getcwd()\n",
    "device = torch.device(\"cuda\" if torch.cuda.is_available() else \"cpu\") \n",
    "\n",
    "\n",
    "# hyper-para tuning\n",
    "width_arry = np.array([10, 11, 12])\n",
    "act_array = np.array([nn.ReLU(), nn.Sigmoid()])\n",
    "loss_array = np.array([nn.L1Loss(), nn.MSELoss()])\n",
    "lr_array = np.array([0.001, 0.005, 0.05])\n",
    "opt_array = np.array([\"Adam\", \"SGD\"])\n",
    "\n",
    "# initialize model for tuning width\n",
    "w=10\n",
    "model = MLP(width = w, active_func = nn.ReLU())\n",
    "# create folder ==================================\n",
    "model_name = ('/width_%s'%w)\n",
    "path_dir = model_dir + model_name\n",
    "print(path_dir)\n",
    "if not os.path.exists(path_dir):\n",
    "    os.mkdir(path_dir)\n",
    "loss_func = nn.L1Loss()\n",
    "optimizer = torch.optim.SGD(model.parameters(), lr=0.005)\n",
    "trainer = Trainer(\n",
    "    model,\n",
    "    n_epochs,\n",
    "    data_size,\n",
    "    X_training,\n",
    "    y_training,\n",
    "    X_val.iloc[0:data_size,:],\n",
    "    y_val.iloc[0:data_size],\n",
    "    loss_func,\n",
    "    checkpoint_frequency,\n",
    "    model_dir,\n",
    "    optimizer,\n",
    "    batch_size,\n",
    "    device,\n",
    "    model_name,\n",
    "    )\n",
    "train_losses, val_losses = trainer.fit_and_evaluate()"
   ]
  },
  {
   "cell_type": "code",
   "execution_count": 7,
   "metadata": {
    "collapsed": true,
    "jupyter": {
     "outputs_hidden": true
    },
    "tags": []
   },
   "outputs": [
    {
     "data": {
      "image/png": "[encoded data removed]",
      "text/plain": [
       "<Figure size 432x288 with 1 Axes>"
      ]
     },
     "metadata": {
      "needs_background": "light"
     },
     "output_type": "display_data"
    }
   ],
   "source": [
    "# plotting outcomes\n",
    "epoch = torch.linspace(0,n_epochs+1,len(train_losses))\n",
    "plt.plot(epoch, train_losses)\n",
    "plt.plot(epoch, val_losses)\n",
    "plt.xlabel('epoch')\n",
    "plt.ylabel('loss')\n",
    "plt.legend(['train loss', 'val loss'],loc='upper right')\n",
    "plt.show()"
   ]
  },
  {
   "cell_type": "markdown",
   "metadata": {
    "jp-MarkdownHeadingCollapsed": true,
    "tags": []
   },
   "source": [
    "### Width"
   ]
  },
  {
   "cell_type": "code",
   "execution_count": 15,
   "metadata": {
    "tags": []
   },
   "outputs": [
    {
     "name": "stderr",
     "output_type": "stream",
     "text": [
      "100%|█████████████████████████████████████████████████████████████████████████████████████| 3/3 [18:33<00:00, 371.22s/it]\n",
      "100%|█████████████████████████████████████████████████████████████████████████████████████| 3/3 [20:20<00:00, 406.94s/it]\n",
      "100%|█████████████████████████████████████████████████████████████████████████████████████| 3/3 [22:05<00:00, 441.92s/it]\n"
     ]
    },
    {
     "data": {
      "image/png": "[encoded data removed]",
      "text/plain": [
       "<Figure size 432x288 with 1 Axes>"
      ]
     },
     "metadata": {
      "needs_background": "light"
     },
     "output_type": "display_data"
    }
   ],
   "source": [
    "# para initialize\n",
    "data_size = 100000\n",
    "batch_size = 10\n",
    "n_epochs = 3\n",
    "checkpoint_frequency = 1\n",
    "model_dir = os.getcwd()\n",
    "device = torch.device(\"cuda\" if torch.cuda.is_available() else \"cpu\") \n",
    "\n",
    "\n",
    "# hyper-para tuning\n",
    "width_array = np.array([10, 11, 12])\n",
    "active_func = nn.ReLU()\n",
    "loss_func = nn.L1Loss()\n",
    "learning_rate = 0.005\n",
    "\n",
    "# initialize model for tuning width\n",
    "model_loss = []\n",
    "for w in range(width_array.shape[0]):\n",
    "    model = MLP(width = width_array[w], active_func = active_func)\n",
    "    model_name = ('/width_%s'% width_array[w])\n",
    "    path_dir = model_dir + model_name\n",
    "    if not os.path.exists(path_dir):\n",
    "        os.mkdir(path_dir)\n",
    "    optimizer = torch.optim.SGD(model.parameters(), lr=learning_rate)\n",
    "    trainer = Trainer(\n",
    "        model,\n",
    "        n_epochs,\n",
    "        data_size,\n",
    "        X_training,\n",
    "        y_training,\n",
    "        X_val,\n",
    "        y_val,\n",
    "        loss_func,\n",
    "        checkpoint_frequency,\n",
    "        model_dir,\n",
    "        optimizer,\n",
    "        batch_size,\n",
    "        device,\n",
    "        model_name,\n",
    "        )\n",
    "    train_losses, val_losses = trainer.fit_and_evaluate()\n",
    "    model_loss.append(np.array(val_losses).min())\n",
    "    \n",
    "plt.plot(width_array, model_loss, 'o')\n",
    "plt.xlabel('model width')\n",
    "plt.ylabel('validation loss')\n",
    "plt.show()"
   ]
  },
  {
   "cell_type": "markdown",
   "metadata": {
    "jp-MarkdownHeadingCollapsed": true,
    "tags": []
   },
   "source": [
    "### Activation layer"
   ]
  },
  {
   "cell_type": "code",
   "execution_count": 6,
   "metadata": {},
   "outputs": [
    {
     "name": "stderr",
     "output_type": "stream",
     "text": [
      "/home/hkhuang3/.local/lib/python3.10/site-packages/torch/nn/modules/loss.py:101: UserWarning: Using a target size (torch.Size([10])) that is different to the input size (torch.Size([10, 1])). This will likely lead to incorrect results due to broadcasting. Please ensure they have the same size.\n",
      "  return F.l1_loss(input, target, reduction=self.reduction)\n",
      "/home/hkhuang3/.local/lib/python3.10/site-packages/torch/nn/modules/loss.py:101: UserWarning: Using a target size (torch.Size([1])) that is different to the input size (torch.Size([1, 1])). This will likely lead to incorrect results due to broadcasting. Please ensure they have the same size.\n",
      "  return F.l1_loss(input, target, reduction=self.reduction)\n",
      "100%|█████████████████████████████████████████████████████████████████████████████████████| 3/3 [18:53<00:00, 377.73s/it]\n",
      "100%|█████████████████████████████████████████████████████████████████████████████████████| 3/3 [18:16<00:00, 365.36s/it]\n"
     ]
    },
    {
     "data": {
      "image/png": "[encoded data removed]",
      "text/plain": [
       "<Figure size 432x288 with 1 Axes>"
      ]
     },
     "metadata": {
      "needs_background": "light"
     },
     "output_type": "display_data"
    }
   ],
   "source": [
    "# para initialize\n",
    "data_size = 100000\n",
    "batch_size = 10\n",
    "n_epochs = 3\n",
    "checkpoint_frequency = 1\n",
    "model_dir = os.getcwd()\n",
    "device = torch.device(\"cuda\" if torch.cuda.is_available() else \"cpu\") \n",
    "\n",
    "\n",
    "# hyper-para tuning\n",
    "width = 10\n",
    "act_array = np.array([nn.ReLU(), nn.Sigmoid()])\n",
    "loss_func = nn.L1Loss()\n",
    "learning_rate = 0.005\n",
    "\n",
    "# initialize model for tuning activation function\n",
    "model_loss = []\n",
    "act_name = np.array(['relu', 'sigmoid'])\n",
    "for a in range(act_array.shape[0]):\n",
    "    model = MLP(width = width, active_func = act_array[a])\n",
    "    model_name = ('/act_%s'% act_name[a])\n",
    "    path_dir = model_dir + model_name\n",
    "    if not os.path.exists(path_dir):\n",
    "        os.mkdir(path_dir)\n",
    "    optimizer = torch.optim.SGD(model.parameters(), lr=learning_rate)\n",
    "    trainer = Trainer(\n",
    "        model,\n",
    "        n_epochs,\n",
    "        data_size,\n",
    "        X_training,\n",
    "        y_training,\n",
    "        X_val,\n",
    "        y_val,\n",
    "        loss_func,\n",
    "        checkpoint_frequency,\n",
    "        model_dir,\n",
    "        optimizer,\n",
    "        batch_size,\n",
    "        device,\n",
    "        model_name,\n",
    "        )\n",
    "    train_losses, val_losses = trainer.fit_and_evaluate()\n",
    "    model_loss.append(np.array(val_losses).min())\n",
    "    \n",
    "plt.plot(act_name, model_loss, 'o')\n",
    "plt.xlabel('model activation layer')\n",
    "plt.ylabel('validation loss')\n",
    "plt.show()"
   ]
  },
  {
   "cell_type": "markdown",
   "metadata": {
    "jp-MarkdownHeadingCollapsed": true,
    "tags": []
   },
   "source": [
    "### loss function"
   ]
  },
  {
   "cell_type": "code",
   "execution_count": 19,
   "metadata": {},
   "outputs": [
    {
     "name": "stderr",
     "output_type": "stream",
     "text": [
      "/home/hkhuang3/.local/lib/python3.10/site-packages/torch/nn/modules/loss.py:101: UserWarning: Using a target size (torch.Size([200])) that is different to the input size (torch.Size([200, 1])). This will likely lead to incorrect results due to broadcasting. Please ensure they have the same size.\n",
      "  return F.l1_loss(input, target, reduction=self.reduction)\n",
      "Traceback (most recent call last):\n",
      "  File \"/software/python-3.10.0/lib/python3.10/multiprocessing/queues.py\", line 251, in _feed\n",
      "    send_bytes(obj)\n",
      "  File \"/software/python-3.10.0/lib/python3.10/multiprocessing/connection.py\", line 205, in send_bytes\n",
      "    self._send_bytes(m[offset:offset + size])\n",
      "  File \"/software/python-3.10.0/lib/python3.10/multiprocessing/connection.py\", line 416, in _send_bytes\n",
      "    self._send(header + buf)\n",
      "  File \"/software/python-3.10.0/lib/python3.10/multiprocessing/connection.py\", line 373, in _send\n",
      "    n = write(self._handle, buf)\n",
      "BrokenPipeError: [Errno 32] Broken pipe\n",
      "Traceback (most recent call last):\n",
      "  File \"/software/python-3.10.0/lib/python3.10/multiprocessing/queues.py\", line 241, in _feed\n",
      "    close()\n",
      "  File \"/software/python-3.10.0/lib/python3.10/multiprocessing/connection.py\", line 182, in close\n",
      "    self._close()\n",
      "  File \"/software/python-3.10.0/lib/python3.10/multiprocessing/connection.py\", line 366, in _close\n",
      "    _close(self._handle)\n",
      "OSError: [Errno 9] Bad file descriptor\n",
      "/home/hkhuang3/.local/lib/python3.10/site-packages/torch/nn/modules/loss.py:101: UserWarning: Using a target size (torch.Size([169])) that is different to the input size (torch.Size([169, 1])). This will likely lead to incorrect results due to broadcasting. Please ensure they have the same size.\n",
      "  return F.l1_loss(input, target, reduction=self.reduction)\n",
      "100%|██████████████████████████████████████████████████████████████████████████████████████| 3/3 [00:29<00:00,  9.89s/it]\n",
      "/home/hkhuang3/.local/lib/python3.10/site-packages/torch/nn/modules/loss.py:535: UserWarning: Using a target size (torch.Size([200])) that is different to the input size (torch.Size([200, 1])). This will likely lead to incorrect results due to broadcasting. Please ensure they have the same size.\n",
      "  return F.mse_loss(input, target, reduction=self.reduction)\n",
      "/home/hkhuang3/.local/lib/python3.10/site-packages/torch/nn/modules/loss.py:535: UserWarning: Using a target size (torch.Size([169])) that is different to the input size (torch.Size([169, 1])). This will likely lead to incorrect results due to broadcasting. Please ensure they have the same size.\n",
      "  return F.mse_loss(input, target, reduction=self.reduction)\n",
      "100%|██████████████████████████████████████████████████████████████████████████████████████| 3/3 [00:31<00:00, 10.41s/it]\n"
     ]
    },
    {
     "data": {
      "image/png": "[encoded data removed]",
      "text/plain": [
       "<Figure size 432x288 with 1 Axes>"
      ]
     },
     "metadata": {
      "needs_background": "light"
     },
     "output_type": "display_data"
    }
   ],
   "source": [
    "# para initialize\n",
    "data_size = 100000\n",
    "batch_size = 200\n",
    "n_epochs = 3\n",
    "checkpoint_frequency = 1\n",
    "model_dir = os.getcwd()\n",
    "device = torch.device(\"cuda\" if torch.cuda.is_available() else \"cpu\") \n",
    "\n",
    "\n",
    "# hyper-para tuning\n",
    "width = 10\n",
    "active_func = nn.ReLU()\n",
    "loss_array = np.array([nn.L1Loss(), nn.MSELoss()])\n",
    "learning_rate = 0.005\n",
    "\n",
    "# initialize model for tuning loss function\n",
    "model_loss = []\n",
    "loss_name = np.array(['L1', 'MSE'])\n",
    "for l in range(loss_array.shape[0]):\n",
    "    model = MLP(width = width, active_func = active_func)\n",
    "    model_name = ('/loss_%s'% loss_name[l])\n",
    "    path_dir = model_dir + model_name\n",
    "    if not os.path.exists(path_dir):\n",
    "        os.mkdir(path_dir)\n",
    "    optimizer = torch.optim.SGD(model.parameters(), lr=learning_rate)\n",
    "    loss_func = loss_array[l]\n",
    "    trainer = Trainer(\n",
    "        model,\n",
    "        n_epochs,\n",
    "        data_size,\n",
    "        X_training,\n",
    "        y_training,\n",
    "        X_val,\n",
    "        y_val,\n",
    "        loss_func,\n",
    "        checkpoint_frequency,\n",
    "        model_dir,\n",
    "        optimizer,\n",
    "        batch_size,\n",
    "        device,\n",
    "        model_name,\n",
    "        )\n",
    "    train_losses, val_losses = trainer.fit_and_evaluate()\n",
    "    model_loss.append(np.array(val_losses).min())\n",
    "    \n",
    "plt.plot(loss_name, model_loss, 'o')\n",
    "plt.xlabel('model loss function')\n",
    "plt.ylabel('validation loss')\n",
    "plt.show()"
   ]
  },
  {
   "cell_type": "markdown",
   "metadata": {
    "tags": []
   },
   "source": [
    "### learning rate"
   ]
  },
  {
   "cell_type": "code",
   "execution_count": 20,
   "metadata": {},
   "outputs": [
    {
     "name": "stderr",
     "output_type": "stream",
     "text": [
      "100%|██████████████████████████████████████████████████████████████████████████████████████| 3/3 [00:31<00:00, 10.64s/it]\n",
      "100%|██████████████████████████████████████████████████████████████████████████████████████| 3/3 [00:30<00:00, 10.23s/it]\n",
      "100%|██████████████████████████████████████████████████████████████████████████████████████| 3/3 [00:30<00:00, 10.10s/it]\n"
     ]
    },
    {
     "data": {
      "image/png": "[encoded data removed]",
      "text/plain": [
       "<Figure size 432x288 with 1 Axes>"
      ]
     },
     "metadata": {
      "needs_background": "light"
     },
     "output_type": "display_data"
    }
   ],
   "source": [
    "# para initialize\n",
    "data_size = 100000\n",
    "batch_size = 200\n",
    "n_epochs = 3\n",
    "checkpoint_frequency = 1\n",
    "model_dir = os.getcwd()\n",
    "device = torch.device(\"cuda\" if torch.cuda.is_available() else \"cpu\") \n",
    "\n",
    "\n",
    "# hyper-para tuning\n",
    "width = 10\n",
    "active_func = nn.ReLU()\n",
    "loss_func = nn.L1Loss()\n",
    "lr_array = np.array([0.001, 0.005, 0.05])\n",
    "\n",
    "# initialize model for tuning learning rate\n",
    "model_loss = []\n",
    "for r in range(lr_array.shape[0]):\n",
    "    model = MLP(width = width, active_func = active_func)\n",
    "    learning_rate = lr_array[r]\n",
    "    model_name = ('/lr_%s'% learning_rate)\n",
    "    path_dir = model_dir + model_name\n",
    "    if not os.path.exists(path_dir):\n",
    "        os.mkdir(path_dir)\n",
    "    optimizer = torch.optim.SGD(model.parameters(), lr=learning_rate)\n",
    "    trainer = Trainer(\n",
    "        model,\n",
    "        n_epochs,\n",
    "        data_size,\n",
    "        X_training,\n",
    "        y_training,\n",
    "        X_val,\n",
    "        y_val,\n",
    "        loss_func,\n",
    "        checkpoint_frequency,\n",
    "        model_dir,\n",
    "        optimizer,\n",
    "        batch_size,\n",
    "        device,\n",
    "        model_name,\n",
    "        )\n",
    "    train_losses, val_losses = trainer.fit_and_evaluate()\n",
    "    model_loss.append(np.array(val_losses).min())\n",
    "    \n",
    "plt.plot(lr_array, model_loss, 'o')\n",
    "plt.xlabel('model learning rate')\n",
    "plt.ylabel('validation loss')\n",
    "plt.show()"
   ]
  },
  {
   "cell_type": "markdown",
   "metadata": {},
   "source": [
    "### optimizer"
   ]
  },
  {
   "cell_type": "code",
   "execution_count": 21,
   "metadata": {},
   "outputs": [
    {
     "name": "stderr",
     "output_type": "stream",
     "text": [
      "100%|██████████████████████████████████████████████████████████████████████████████████████| 3/3 [00:39<00:00, 13.22s/it]\n",
      "100%|██████████████████████████████████████████████████████████████████████████████████████| 3/3 [00:42<00:00, 14.18s/it]\n"
     ]
    },
    {
     "data": {
      "image/png": "[encoded data removed]",
      "text/plain": [
       "<Figure size 432x288 with 1 Axes>"
      ]
     },
     "metadata": {
      "needs_background": "light"
     },
     "output_type": "display_data"
    }
   ],
   "source": [
    "# para initialize\n",
    "data_size = 100000\n",
    "batch_size = 100\n",
    "n_epochs = 3\n",
    "checkpoint_frequency = 1\n",
    "model_dir = os.getcwd()\n",
    "device = torch.device(\"cuda\" if torch.cuda.is_available() else \"cpu\") \n",
    "\n",
    "\n",
    "# hyper-para tuning\n",
    "width = 10\n",
    "active_func = nn.ReLU()\n",
    "loss_func = nn.L1Loss()\n",
    "learning_rate = 0.005\n",
    "opt_array = np.array([\"Adam\", \"SGD\"])\n",
    "\n",
    "# initialize model for tuning optimizer\n",
    "model_loss = []\n",
    "for o in range(opt_array.shape[0]):\n",
    "    model = MLP(width = width, active_func = active_func)\n",
    "    model_name = ('/opt_%s'% opt_array[o])\n",
    "    path_dir = model_dir + model_name\n",
    "    if not os.path.exists(path_dir):\n",
    "        os.mkdir(path_dir)\n",
    "    if o==0:\n",
    "        optimizer = torch.optim.SGD(model.parameters(), lr=learning_rate)\n",
    "    else:\n",
    "        optimizer = torch.optim.Adam(model.parameters(), lr=learning_rate)\n",
    "    trainer = Trainer(\n",
    "        model,\n",
    "        n_epochs,\n",
    "        data_size,\n",
    "        X_training,\n",
    "        y_training,\n",
    "        X_val,\n",
    "        y_val,\n",
    "        loss_func,\n",
    "        checkpoint_frequency,\n",
    "        model_dir,\n",
    "        optimizer,\n",
    "        batch_size,\n",
    "        device,\n",
    "        model_name,\n",
    "        )\n",
    "    train_losses, val_losses = trainer.fit_and_evaluate()\n",
    "    model_loss.append(np.array(val_losses).min())\n",
    "    \n",
    "plt.plot(opt_array, model_loss, 'o')\n",
    "plt.xlabel('model optimizer')\n",
    "plt.ylabel('validation loss')\n",
    "plt.show()"
   ]
  },
  {
   "cell_type": "code",
   "execution_count": null,
   "metadata": {},
   "outputs": [],
   "source": [
    "# https://pytorch.org/tutorials/recipes/recipes/saving_and_loading_a_general_checkpoint.html\n",
    "# checkpoint = torch.load(PATH)\n",
    "# model.load_state_dict(checkpoint['model_state_dict'])\n",
    "# optimizer.load_state_dict(checkpoint['optimizer_state_dict'])\n",
    "# epoch = checkpoint['epoch']\n",
    "# loss = checkpoint['loss']"
   ]
  },
  {
   "cell_type": "code",
   "execution_count": null,
   "metadata": {},
   "outputs": [],
   "source": [
    "'''TODO: load model, test model performance'''\n",
    "'''Test: dimensional reduction affect?'''"
   ]
  }
 ],
 "metadata": {
  "accelerator": "GPU",
  "colab": {
   "gpuType": "T4",
   "provenance": []
  },
  "kernelspec": {
   "display_name": "Python 3 (ipykernel)",
   "language": "python",
   "name": "python3"
  },
  "language_info": {
   "codemirror_mode": {
    "name": "ipython",
    "version": 3
   },
   "file_extension": ".py",
   "mimetype": "text/x-python",
   "name": "python",
   "nbconvert_exporter": "python",
   "pygments_lexer": "ipython3",
   "version": "3.10.0"
  }
 },
 "nbformat": 4,
 "nbformat_minor": 4
}
