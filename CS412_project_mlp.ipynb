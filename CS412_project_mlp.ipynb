{
 "cells": [
  {
   "cell_type": "markdown",
   "metadata": {
    "id": "8E5r4F25Njf7"
   },
   "source": [
    "# Import libraries"
   ]
  },
  {
   "cell_type": "code",
   "execution_count": 5,
   "metadata": {
    "id": "LCYaeqYCNTDm"
   },
   "outputs": [],
   "source": [
    "import pandas as pd\n",
    "import numpy as np\n",
    "import matplotlib\n",
    "import matplotlib.pyplot as plt\n",
    "import torch\n",
    "import sklearn"
   ]
  },
  {
   "cell_type": "markdown",
   "metadata": {
    "id": "QoX2tIs8PGUJ"
   },
   "source": [
    "# Read dataset"
   ]
  },
  {
   "cell_type": "code",
   "execution_count": 7,
   "metadata": {},
   "outputs": [],
   "source": [
    "# from torch.utils.data import Dataset\n",
    "# from torch.utils.data import DataLoader\n",
    "\n",
    "# class MLPDataset(Dataset):\n",
    "#     def __init__(self, csv_file):\n",
    "#         self.data = pd.read_csv(csv_file)\n",
    "#     def __len__(self):\n",
    "#         return len(self.data)\n",
    "#     def __getitem__(self, idx):\n",
    "#         feature = self.data.iloc[idx, 0:-1]\n",
    "#         label = self.data.iloc[idx, -1]\n",
    "#         return feature, label\n",
    "\n",
    "# data_train = MLPDataset(\"data_train.csv\")\n",
    "# MLP_dataloader = DataLoader(data_train, batch_size = 10, shuffle=False)\n",
    "\n",
    "# data_train = pd.read_csv(\"data_train.csv\")\n",
    "# data_val = pd.read_csv(\"data_val.csv\")\n",
    "# data_test = pd.read_csv(\"data_test.csv\")\n",
    "data_train = pd.DataFrame(np.fromfile('data_train.dat', dtype=np.float32).reshape((-1, 824)))\n",
    "data_val = pd.DataFrame(np.fromfile('data_val.dat', dtype=np.float32).reshape((-1, 824)))\n",
    "data_test = pd.DataFrame(np.fromfile('data_test.dat', dtype=np.float32).reshape((-1, 824)))\n",
    "X_training = data_train.iloc[:, 0:-1]\n",
    "y_training = data_train.iloc[:, -1]\n",
    "X_val = data_val.iloc[:, 0:-1]\n",
    "y_val = data_val.iloc[:, -1]\n",
    "X_test = data_test.iloc[:, 0:-1]\n",
    "y_test = data_test.iloc[:, -1]"
   ]
  },
  {
   "cell_type": "markdown",
   "metadata": {},
   "source": [
    "# MLP regression model"
   ]
  },
  {
   "cell_type": "code",
   "execution_count": 8,
   "metadata": {},
   "outputs": [],
   "source": [
    "import torch.nn as nn\n",
    "import torch.nn.functional as F\n",
    "import torch.optim as optim\n",
    "from sklearn.datasets import load_digits\n",
    "from tqdm import tqdm"
   ]
  },
  {
   "cell_type": "code",
   "execution_count": 9,
   "metadata": {},
   "outputs": [],
   "source": [
    "class MLP(nn.Module): #model activation layer change!!!!==========\n",
    "    '''\n",
    "    Multilayer Perceptron for regression.\n",
    "    '''\n",
    "    def __init__(self, width):\n",
    "        super().__init__() \n",
    "        torch.manual_seed(0) #setseed\n",
    "\n",
    "        layer_list = []\n",
    "        layer_list.append(nn.Linear(823, pow(2,width))) #expand to 2^width features\n",
    "        layer_list.append(nn.ReLU())\n",
    "\n",
    "        width_lay = width\n",
    "        for i in range(6,width):\n",
    "            layer_list.append(nn.Linear(pow(2,width_lay), pow(2,width_lay-1)))\n",
    "            layer_list.append(nn.ReLU())\n",
    "            width_lay -= 1\n",
    "        layer_list.append(nn.Linear(64, 1))  # regression output\n",
    "        self.layers = nn.Sequential(*layer_list)\n",
    "\n",
    "    def forward(self, x):\n",
    "        return self.layers(x)"
   ]
  },
  {
   "cell_type": "markdown",
   "metadata": {},
   "source": [
    "## Define utils functions"
   ]
  },
  {
   "cell_type": "code",
   "execution_count": 11,
   "metadata": {},
   "outputs": [],
   "source": [
    "def fit_and_evaluate(net, optimizer, loss_func, train, val, n_epochs, batch_size=1):\n",
    "    '''\n",
    "    Fits the neural network using the given optimizer, loss function, training set\n",
    "    Arguments:\n",
    "        net: the neural network\n",
    "        optimizer: a optim.Optimizer used for some variant of stochastic gradient descent\n",
    "        train: a torch.utils.data.Dataset\n",
    "        test: a torch.utils.data.Dataset\n",
    "        n_epochs: the number of epochs over which to do gradient descent\n",
    "        batch_size: the number of samples to use in each batch of gradient descent\n",
    "\n",
    "    Returns:\n",
    "        train_epoch_loss, test_epoch_loss: two arrays of length n_epochs+1,\n",
    "        containing the mean loss at the beginning of training and after each epoch\n",
    "    '''\n",
    "    # Prepare data\n",
    "    train_dl = torch.utils.data.DataLoader(train, batch_size)       \n",
    "    val_dl = torch.utils.data.DataLoader(val)\n",
    "\n",
    "    train_losses = []\n",
    "    val_losses = []\n",
    "\n",
    "    # Compute the loss on the training and validation sets at the start,\n",
    "    # being sure not to store gradient information (e.g. with torch.no_grad():)\n",
    "    net.eval()\n",
    "    with torch.no_grad():\n",
    "        train_losses.append(epoch_loss(net, loss_func, train_dl))\n",
    "        val_losses.append(epoch_loss(net, loss_func, val_dl))\n",
    "        \n",
    "    # Train the network for n_epochs, storing the training and validation losses\n",
    "    # after every epoch. Remember not to store gradient information while calling\n",
    "    # epoch_loss\n",
    "    for epoch in tqdm(range(n_epochs)):\n",
    "        #training\n",
    "        net.train()\n",
    "        for iteration, (xb, yb) in enumerate(train_dl):\n",
    "            train_batch(net, loss_func, xb, yb, opt=optimizer)\n",
    "        #testing\n",
    "        net.eval()\n",
    "        with torch.no_grad():\n",
    "            train_losses.append(epoch_loss(net, loss_func, train_dl))\n",
    "            val_losses.append(epoch_loss(net, loss_func, val_dl))\n",
    "\n",
    "        # save checkpoint!=================================================\n",
    "        # if ((epoch%1) == 0):\n",
    "        #     torch.save({\n",
    "        #         'epoch': epoch,\n",
    "        #         'model_state_dict': net.state_dict(),\n",
    "        #         'optimizer_state_dict': optimizer.state_dict(),\n",
    "        #         'loss': [train_losses, val_losses],\n",
    "        #         }, './checkpoint/checkpoint_epoch_%s'%epoch)\n",
    "        \n",
    "    return train_losses, val_losses\n",
    "\n",
    "def train_batch(net, loss_func, xb, yb, opt=None):\n",
    "    ''' \n",
    "    @param net: the neural network\n",
    "    @param loss_func: the loss function (can be applied to model(xb), yb)\n",
    "    @param xb: a batch of the training data to input to the model\n",
    "    @param yb: a batch of the training labels to input to the model\n",
    "    @param opt: a torch.optimizer.Optimizer used to improve the model.\n",
    "    '''\n",
    "    # Zero the gradients\n",
    "    opt.zero_grad()  \n",
    "    # Perform forward pass\n",
    "    yi = net(xb)\n",
    "    # Compute loss\n",
    "    loss = loss_func(yi, yb) \n",
    "    # Perform backward pass\n",
    "    loss.backward()\n",
    "    # Perform optimization\n",
    "    opt.step()\n",
    "\n",
    "def torch_datap(feature_col, label): \n",
    "    feature_t = torch.tensor(feature_col.values, dtype=torch.float)\n",
    "    label_t = torch.tensor(label.values, dtype=torch.float)\n",
    "    datap = torch.utils.data.TensorDataset(feature_t, label_t)\n",
    "    return datap\n",
    "\n",
    "def epoch_loss(net, loss_func, data_loader):\n",
    "    ''' Computes the average loss of the model on the entire dataset\n",
    "    @param net: The neural network to be evaluated\n",
    "    @param loss_func: The loss function used to evaluate the neural network\n",
    "    @param data_loader: The DataLoader which loads minibatches of the dataset\n",
    "    @return The network's average loss over the dataset.\n",
    "    '''\n",
    "    total_examples = 0\n",
    "    losses = []\n",
    "    for X, Y in data_loader:\n",
    "        total_examples += len(X)\n",
    "        losses.append(loss_func(net(X), Y).item() * len(X)) # Compute total loss for batch\n",
    "\n",
    "    return torch.tensor(losses).sum() / total_examples"
   ]
  },
  {
   "cell_type": "code",
   "execution_count": 12,
   "metadata": {},
   "outputs": [
    {
     "name": "stdout",
     "output_type": "stream",
     "text": [
      "MLP(\n",
      "  (layers): Sequential(\n",
      "    (0): Linear(in_features=823, out_features=1024, bias=True)\n",
      "    (1): ReLU()\n",
      "    (2): Linear(in_features=1024, out_features=512, bias=True)\n",
      "    (3): ReLU()\n",
      "    (4): Linear(in_features=512, out_features=256, bias=True)\n",
      "    (5): ReLU()\n",
      "    (6): Linear(in_features=256, out_features=128, bias=True)\n",
      "    (7): ReLU()\n",
      "    (8): Linear(in_features=128, out_features=64, bias=True)\n",
      "    (9): ReLU()\n",
      "    (10): Linear(in_features=64, out_features=1, bias=True)\n",
      "  )\n",
      ")\n"
     ]
    },
    {
     "name": "stderr",
     "output_type": "stream",
     "text": [
      "/Users/laiyihui/anaconda3/envs/stat_env/lib/python3.10/site-packages/torch/nn/modules/loss.py:96: UserWarning: Using a target size (torch.Size([10])) that is different to the input size (torch.Size([10, 1])). This will likely lead to incorrect results due to broadcasting. Please ensure they have the same size.\n",
      "  return F.l1_loss(input, target, reduction=self.reduction)\n",
      "/Users/laiyihui/anaconda3/envs/stat_env/lib/python3.10/site-packages/torch/nn/modules/loss.py:96: UserWarning: Using a target size (torch.Size([1])) that is different to the input size (torch.Size([1, 1])). This will likely lead to incorrect results due to broadcasting. Please ensure they have the same size.\n",
      "  return F.l1_loss(input, target, reduction=self.reduction)\n",
      "100%|██████████| 1/1 [00:32<00:00, 32.52s/it]\n"
     ]
    }
   ],
   "source": [
    "# Prepare dataset \n",
    "# print(X_training.iloc[0:10,:].shape, y_training.iloc[0:10].shape)\n",
    "test_size = 100\n",
    "training_p = torch_datap(X_training.iloc[0:test_size,:], y_training.iloc[0:test_size])\n",
    "valid_p = torch_datap(X_val.iloc[0:test_size,:], y_val.iloc[0:test_size])\n",
    "# training_p = torch_datap(X_training, y_training)\n",
    "# valid_p = torch_datap(X_val, y_val)\n",
    "\n",
    "# Initialize model, optimizer, loss_func\n",
    "model = MLP(width=10) #change width!===============================================================================\n",
    "print(model)\n",
    "optimizer=torch.optim.SGD( model.parameters(), lr=0.005, momentum=0 ) #change lr, momentum, ADAM!==================\n",
    "loss_func=nn.L1Loss() #change loss!================================================================================\n",
    "\n",
    "# Initialize batch size and epochs #change!========================================================================\n",
    "n_epochs=1\n",
    "batch_size=10\n",
    "\n",
    "# fit and evaluate, save the best checkpoint\n",
    "train_losses, val_losses = fit_and_evaluate(model, optimizer, loss_func, training_p, valid_p, n_epochs, batch_size)"
   ]
  },
  {
   "cell_type": "code",
   "execution_count": 14,
   "metadata": {},
   "outputs": [
    {
     "data": {
      "image/png": "[encoded data removed]",
      "text/plain": [
       "<Figure size 640x480 with 1 Axes>"
      ]
     },
     "metadata": {},
     "output_type": "display_data"
    }
   ],
   "source": [
    "# plotting outcomes\n",
    "epoch = torch.linspace(0,n_epochs+1,len(train_losses))\n",
    "plt.plot(epoch, train_losses)\n",
    "plt.plot(epoch, val_losses)\n",
    "plt.xlabel('epoch')\n",
    "plt.ylabel('loss')\n",
    "plt.legend(['train loss', 'val loss'],loc='upper right')\n",
    "plt.show()"
   ]
  },
  {
   "cell_type": "code",
   "execution_count": null,
   "metadata": {},
   "outputs": [],
   "source": [
    "# https://pytorch.org/tutorials/recipes/recipes/saving_and_loading_a_general_checkpoint.html\n",
    "# checkpoint = torch.load(PATH)\n",
    "# model.load_state_dict(checkpoint['model_state_dict'])\n",
    "# optimizer.load_state_dict(checkpoint['optimizer_state_dict'])\n",
    "# epoch = checkpoint['epoch']\n",
    "# loss = checkpoint['loss']"
   ]
  }
 ],
 "metadata": {
  "accelerator": "GPU",
  "colab": {
   "gpuType": "T4",
   "provenance": []
  },
  "kernelspec": {
   "display_name": "Python 3 (ipykernel)",
   "language": "python",
   "name": "python3"
  },
  "language_info": {
   "codemirror_mode": {
    "name": "ipython",
    "version": 3
   },
   "file_extension": ".py",
   "mimetype": "text/x-python",
   "name": "python",
   "nbconvert_exporter": "python",
   "pygments_lexer": "ipython3",
   "version": "3.10.9"
  }
 },
 "nbformat": 4,
 "nbformat_minor": 4
}
